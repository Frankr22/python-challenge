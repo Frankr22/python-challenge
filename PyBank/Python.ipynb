{
 "cells": [
  {
   "cell_type": "code",
   "execution_count": 1,
   "id": "4243e7c7",
   "metadata": {},
   "outputs": [],
   "source": [
    "## PyBank\n",
    "# Dependencies\n",
    "import csv\n",
    "import os"
   ]
  },
  {
   "cell_type": "code",
   "execution_count": 2,
   "id": "3a6d00d8",
   "metadata": {},
   "outputs": [],
   "source": [
    "# Set file path for csv file and read csv file\n",
    "csvpath = os.path.join('Resources/budget_data.csv')\n",
    "\n",
    "csv_file = open(csvpath, 'r')\n",
    "csv_reader = csv.reader(csv_file)"
   ]
  },
  {
   "cell_type": "code",
   "execution_count": 6,
   "id": "d0d6cd5c",
   "metadata": {},
   "outputs": [
    {
     "ename": "StopIteration",
     "evalue": "",
     "output_type": "error",
     "traceback": [
      "\u001b[1;31m---------------------------------------------------------------------------\u001b[0m",
      "\u001b[1;31mStopIteration\u001b[0m                             Traceback (most recent call last)",
      "\u001b[1;32m~\\AppData\\Local\\Temp\\ipykernel_21296\\3244834624.py\u001b[0m in \u001b[0;36m<module>\u001b[1;34m\u001b[0m\n\u001b[0;32m      1\u001b[0m \u001b[1;31m# skip first row (column headers)\u001b[0m\u001b[1;33m\u001b[0m\u001b[1;33m\u001b[0m\u001b[1;33m\u001b[0m\u001b[0m\n\u001b[1;32m----> 2\u001b[1;33m \u001b[0mnext\u001b[0m\u001b[1;33m(\u001b[0m\u001b[0mcsv_reader\u001b[0m\u001b[1;33m)\u001b[0m\u001b[1;33m\u001b[0m\u001b[1;33m\u001b[0m\u001b[0m\n\u001b[0m\u001b[0;32m      3\u001b[0m \u001b[0mnum_months\u001b[0m \u001b[1;33m=\u001b[0m \u001b[1;36m0\u001b[0m\u001b[1;33m\u001b[0m\u001b[1;33m\u001b[0m\u001b[0m\n\u001b[0;32m      4\u001b[0m \u001b[0mtotal_profit\u001b[0m \u001b[1;33m=\u001b[0m \u001b[1;36m0\u001b[0m\u001b[1;33m\u001b[0m\u001b[1;33m\u001b[0m\u001b[0m\n\u001b[0;32m      5\u001b[0m \u001b[0mtotal_change\u001b[0m \u001b[1;33m=\u001b[0m \u001b[1;36m0\u001b[0m\u001b[1;33m\u001b[0m\u001b[1;33m\u001b[0m\u001b[0m\n",
      "\u001b[1;31mStopIteration\u001b[0m: "
     ]
    }
   ],
   "source": [
    "# skip first row (column headers)\n",
    "next(csv_reader)\n",
    "num_months = 0\n",
    "total_profit = 0\n",
    "total_change = 0\n",
    "prev_profit = 0\n",
    "change = 0\n",
    "max_change = -float('inf')  # initialize max change to negative infinity\n",
    "max_change_date = ''\n",
    "min_change = float('inf')  # initialize min change to positive infinity\n",
    "min_change_date = ''\n",
    "\n",
    "for row in csv_reader:\n",
    "    num_months += 1\n",
    "    date = row[0]\n",
    "    profit = float(row[1])\n",
    "    total_profit += profit\n",
    "\n",
    "    if num_months > 1:  # only calculate change starting from second month\n",
    "        change = profit - prev_profit\n",
    "        total_change += change\n",
    "\n",
    "    # update maximum and minimum profit values and dates\n",
    "    if change > max_change:\n",
    "        max_change = change\n",
    "        max_change_date = date\n",
    "    if change < min_change:\n",
    "        min_change = change\n",
    "        min_change_date = date\n",
    "    \n",
    "    prev_profit = profit  # update previous profit value for next iteration"
   ]
  },
  {
   "cell_type": "code",
   "execution_count": 7,
   "id": "aa7f847e",
   "metadata": {},
   "outputs": [],
   "source": [
    "# print analysis to terminal and export a text file with the results\n",
    "with open('analysis/output.txt', 'w') as f:\n",
    "    print(\"Financial Analysis\", file=f)\n",
    "    print(\"----------------------------\", file=f)\n",
    "    print(f\"Total Months: {num_months}\", file=f)\n",
    "    print(f\"Total: ${int(total_profit)}\", file=f)\n",
    "    print(f\"Average Change: ${total_change:.2f}\", file=f)\n",
    "    print(f\"Greatest Increase in Profits: {max_change_date} (${int(max_change)})\", file=f)\n",
    "    print(f\"Greatest Decrease in Profits: {min_change_date} (${int(min_change)})\", file=f)\n",
    "    print(\"----------------------------\", file=f)"
   ]
  },
  {
   "cell_type": "code",
   "execution_count": null,
   "id": "e29d5872",
   "metadata": {},
   "outputs": [],
   "source": []
  }
 ],
 "metadata": {
  "kernelspec": {
   "display_name": "PythonData",
   "language": "python",
   "name": "pythondata"
  },
  "language_info": {
   "codemirror_mode": {
    "name": "ipython",
    "version": 3
   },
   "file_extension": ".py",
   "mimetype": "text/x-python",
   "name": "python",
   "nbconvert_exporter": "python",
   "pygments_lexer": "ipython3",
   "version": "3.7.7"
  }
 },
 "nbformat": 4,
 "nbformat_minor": 5
}
