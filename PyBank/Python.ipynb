{
 "cells": [
  {
   "cell_type": "code",
   "execution_count": 5,
   "id": "4243e7c7",
   "metadata": {},
   "outputs": [],
   "source": [
    "## PyBank\n",
    "# Dependencies\n",
    "import csv\n",
    "import os"
   ]
  },
  {
   "cell_type": "code",
   "execution_count": 6,
   "id": "3a6d00d8",
   "metadata": {},
   "outputs": [],
   "source": [
    "# Set file path for csv file and read csv file\n",
    "csvpath = os.path.join('Resources/budget_data.csv')\n",
    "\n",
    "csv_file = open(csvpath, 'r')\n",
    "csv_reader = csv.reader(csv_file)"
   ]
  },
  {
   "cell_type": "code",
   "execution_count": 7,
   "id": "d0d6cd5c",
   "metadata": {},
   "outputs": [],
   "source": [
    "# skip first row (column headers)\n",
    "next(csv_reader)\n",
    "num_months = 0\n",
    "total_profit = 0\n",
    "total_change = 0\n",
    "prev_profit = 0\n",
    "change = 0\n",
    "max_change = -float('inf')  # initialize max change to negative infinity\n",
    "max_change_date = ''\n",
    "min_change = float('inf')  # initialize min change to positive infinity\n",
    "min_change_date = ''\n",
    "\n",
    "for row in csv_reader:\n",
    "    num_months += 1\n",
    "    date = row[0]\n",
    "    profit = float(row[1])\n",
    "    total_profit += profit\n",
    "\n",
    "    if num_months > 1:  # only calculate change starting from second month\n",
    "        change = profit - prev_profit\n",
    "        total_change += change\n",
    "\n",
    "    # update maximum and minimum profit values and dates\n",
    "    if change > max_change:\n",
    "        max_change = change\n",
    "        max_change_date = date\n",
    "    if change < min_change:\n",
    "        min_change = change\n",
    "        min_change_date = date\n",
    "    \n",
    "    prev_profit = profit  # update previous profit value for next iteration"
   ]
  },
  {
   "cell_type": "code",
   "execution_count": 8,
   "id": "aa7f847e",
   "metadata": {},
   "outputs": [
    {
     "name": "stdout",
     "output_type": "stream",
     "text": [
      "Financial Analysis\n",
      "----------------------------\n",
      "Total Months: 86\n",
      "Total: $22564198\n",
      "Average Change: $-706444.00\n",
      "Greatest Increase in Profits: Aug-16 ($1862002)\n",
      "Greatest Decrease in Profits: Feb-14 ($-1825558)\n",
      "----------------------------\n"
     ]
    }
   ],
   "source": [
    "# print analysis to terminal\n",
    "print(\"Financial Analysis\")\n",
    "print(\"----------------------------\")\n",
    "print(f\"Total Months: {num_months}\")\n",
    "print(f\"Total: ${int(total_profit)}\")\n",
    "print(f\"Average Change: ${total_change:.2f}\")\n",
    "print(f\"Greatest Increase in Profits: {max_change_date} (${int(max_change)})\")\n",
    "print(f\"Greatest Decrease in Profits: {min_change_date} (${int(min_change)})\")\n",
    "print(\"----------------------------\")"
   ]
  },
  {
   "cell_type": "code",
   "execution_count": 9,
   "id": "e29d5872",
   "metadata": {},
   "outputs": [],
   "source": [
    "# export a text file with the results\n",
    "with open('analysis/output.txt', 'w') as f:\n",
    "    print(\"Financial Analysis\", file=f)\n",
    "    print(\"----------------------------\", file=f)\n",
    "    print(f\"Total Months: {num_months}\", file=f)\n",
    "    print(f\"Total: ${int(total_profit)}\", file=f)\n",
    "    print(f\"Average Change: ${total_change:.2f}\", file=f)\n",
    "    print(f\"Greatest Increase in Profits: {max_change_date} (${int(max_change)})\", file=f)\n",
    "    print(f\"Greatest Decrease in Profits: {min_change_date} (${int(min_change)})\", file=f)\n",
    "    print(\"----------------------------\", file=f)"
   ]
  }
 ],
 "metadata": {
  "kernelspec": {
   "display_name": "Python 3 (ipykernel)",
   "language": "python",
   "name": "python3"
  },
  "language_info": {
   "codemirror_mode": {
    "name": "ipython",
    "version": 3
   },
   "file_extension": ".py",
   "mimetype": "text/x-python",
   "name": "python",
   "nbconvert_exporter": "python",
   "pygments_lexer": "ipython3",
   "version": "3.9.13"
  }
 },
 "nbformat": 4,
 "nbformat_minor": 5
}
