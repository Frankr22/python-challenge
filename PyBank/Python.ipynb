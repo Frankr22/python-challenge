{
 "cells": [
  {
   "cell_type": "code",
   "execution_count": 1,
   "id": "4243e7c7",
   "metadata": {},
   "outputs": [],
   "source": [
    "## PyBank\n",
    "\n",
    "# Dependencies\n",
    "import csv\n",
    "import os"
   ]
  },
  {
   "cell_type": "code",
   "execution_count": 2,
   "id": "3a6d00d8",
   "metadata": {},
   "outputs": [],
   "source": [
    "# Read csv file\n",
    "csvpath = os.path.join('..', 'PyBank\\Resources', 'budget_data.csv')\n",
    "\n",
    "with open(csvpath) as csvfile:\n",
    "\n",
    "    # CSV reader specifies delimiter and variable that holds contents\n",
    "    csvreader = csv.reader(csvfile, delimiter=',')\n",
    "\n",
    "    # Read the header row and add to list\n",
    "    csv_header = next(csvreader)\n",
    "\n",
    "    # Read each row of data after the header and add to list\n",
    "    csv_budget = []\n",
    "    for row in csvreader:\n",
    "        csv_budget.append(row)"
   ]
  },
  {
   "cell_type": "code",
   "execution_count": null,
   "id": "286583e4",
   "metadata": {},
   "outputs": [],
   "source": [
    "# Create lists to store analysis variables and initialise variables\n",
    "profit = []\n",
    "monthly_changes = []\n",
    "date = []\n",
    "count = 0\n",
    "total_profit = 0\n",
    "total_change_profits = 0\n",
    "initial_profit = 0"
   ]
  },
  {
   "cell_type": "code",
   "execution_count": 3,
   "id": "f3627e35",
   "metadata": {},
   "outputs": [],
   "source": [
    "# The total number of months included in the dataset\n",
    "total_months = len(csv_budget)"
   ]
  },
  {
   "cell_type": "code",
   "execution_count": 7,
   "id": "aa7f847e",
   "metadata": {},
   "outputs": [],
   "source": [
    "# The net total amount of \"Profit/Losses\" over the entire period\n",
    "profit_count = 0\n",
    "loss_count = 0\n",
    "for row in csv_budget:\n",
    "    month = int(row[1])\n",
    "    if month > 0: profit_count += 1\n",
    "    else:loss_count += 1"
   ]
  },
  {
   "cell_type": "code",
   "execution_count": 6,
   "id": "1d482d71",
   "metadata": {},
   "outputs": [
    {
     "ename": "NameError",
     "evalue": "name 'total_change' is not defined",
     "output_type": "error",
     "traceback": [
      "\u001b[1;31m---------------------------------------------------------------------------\u001b[0m",
      "\u001b[1;31mNameError\u001b[0m                                 Traceback (most recent call last)",
      "\u001b[1;32m~\\AppData\\Local\\Temp\\ipykernel_2464\\2765685233.py\u001b[0m in \u001b[0;36m<module>\u001b[1;34m\u001b[0m\n\u001b[0;32m      9\u001b[0m     \u001b[0mchange\u001b[0m \u001b[1;33m=\u001b[0m \u001b[0mint\u001b[0m\u001b[1;33m(\u001b[0m\u001b[0mrow\u001b[0m\u001b[1;33m[\u001b[0m\u001b[1;36m1\u001b[0m\u001b[1;33m]\u001b[0m\u001b[1;33m)\u001b[0m \u001b[1;33m-\u001b[0m \u001b[0mstart\u001b[0m\u001b[1;33m\u001b[0m\u001b[1;33m\u001b[0m\u001b[0m\n\u001b[0;32m     10\u001b[0m     \u001b[0mstart\u001b[0m \u001b[1;33m=\u001b[0m \u001b[0mint\u001b[0m\u001b[1;33m(\u001b[0m\u001b[0mrow\u001b[0m\u001b[1;33m[\u001b[0m\u001b[1;36m1\u001b[0m\u001b[1;33m]\u001b[0m\u001b[1;33m)\u001b[0m\u001b[1;33m\u001b[0m\u001b[1;33m\u001b[0m\u001b[0m\n\u001b[1;32m---> 11\u001b[1;33m     \u001b[0mtotal_change\u001b[0m \u001b[1;33m+=\u001b[0m \u001b[0mchange\u001b[0m\u001b[1;33m\u001b[0m\u001b[1;33m\u001b[0m\u001b[0m\n\u001b[0m",
      "\u001b[1;31mNameError\u001b[0m: name 'total_change' is not defined"
     ]
    }
   ],
   "source": [
    "# The changes in \"Profit/Losses\" over the entire period, and then the average of those changes"
   ]
  },
  {
   "cell_type": "code",
   "execution_count": null,
   "id": "6c0aa5a0",
   "metadata": {},
   "outputs": [],
   "source": [
    "# The greatest increase in profits (date and amount) over the entire period"
   ]
  },
  {
   "cell_type": "code",
   "execution_count": 48,
   "id": "b6833f9c",
   "metadata": {},
   "outputs": [
    {
     "name": "stdout",
     "output_type": "stream",
     "text": [
      "Financial Analysis\n",
      "----------------------------\n",
      "Total Months: 86\n",
      "Total: $22564198\n"
     ]
    }
   ],
   "source": [
    "# print analysis to terminal and export a text file with the results\n",
    "print(\"Financial Analysis\")\n",
    "print(\"----------------------------\")\n",
    "print(f\"Total Months: {total_months}\")\n",
    "print(f\"Total: ${total}\")"
   ]
  },
  {
   "cell_type": "code",
   "execution_count": null,
   "id": "6bb08d42",
   "metadata": {},
   "outputs": [],
   "source": [
    "# for csv_data row 3 column 2 onward, change = csv_data[2][1] - csv_data[1][1], average += change\n",
    "change = 0\n",
    "total_change = 0\n",
    "average_change = 0\n",
    "\n",
    "change = csv_budget[2][1] - csv_budget[1][1]\n",
    "total_change += change\n",
    "\n",
    "change = csv_budget[3][1] - csv_budget[2][1]\n",
    "total_change += change\n",
    "\n",
    "average_change = total_change / (len(csv_budget)-1)"
   ]
  }
 ],
 "metadata": {
  "kernelspec": {
   "display_name": "Python 3 (ipykernel)",
   "language": "python",
   "name": "python3"
  },
  "language_info": {
   "codemirror_mode": {
    "name": "ipython",
    "version": 3
   },
   "file_extension": ".py",
   "mimetype": "text/x-python",
   "name": "python",
   "nbconvert_exporter": "python",
   "pygments_lexer": "ipython3",
   "version": "3.9.13"
  }
 },
 "nbformat": 4,
 "nbformat_minor": 5
}
