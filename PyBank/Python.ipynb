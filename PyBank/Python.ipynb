{
 "cells": [
  {
   "cell_type": "code",
   "execution_count": 1,
   "id": "f6044a92",
   "metadata": {},
   "outputs": [
    {
     "name": "stdout",
     "output_type": "stream",
     "text": [
      "There are 86 months included in the dataset\n"
     ]
    },
    {
     "data": {
      "text/plain": [
       "61"
      ]
     },
     "execution_count": 1,
     "metadata": {},
     "output_type": "execute_result"
    }
   ],
   "source": [
    "## PyBank\n",
    "\n",
    "# Dependencies\n",
    "import csv\n",
    "import os\n",
    "\n",
    "# Read csv file\n",
    "csvpath = os.path.join('..', 'PyBank\\Resources', 'budget_data.csv')\n",
    "\n",
    "with open(csvpath) as csvfile:\n",
    "\n",
    "    # CSV reader specifies delimiter and variable that holds contents\n",
    "    csvreader = csv.reader(csvfile, delimiter=',')\n",
    "\n",
    "    # Read the header row and add to list\n",
    "    csv_header = next(csvreader)\n",
    "\n",
    "    # Read each row of data after the header and add to list\n",
    "    csv_budget = []\n",
    "    for row in csvreader:\n",
    "        csv_budget.append(row)\n",
    "\n",
    "#print(csv_budget)\n",
    "\n",
    "# The total number of months included in the dataset\n",
    "print(f\"There are {len(csv_budget)} months included in the dataset\")\n",
    "\n",
    "# The net total amount of \"Profit/Losses\" over the entire period\n",
    "profit_count = 0\n",
    "loss_count = 0\n",
    "for row in csv_budget:\n",
    "    month = int(row[1])\n",
    "    if month > 0: profit_count += 1\n",
    "    else:loss_count += 1\n",
    "        \n",
    "profit_count\n",
    "# The changes in \"Profit/Losses\" over the entire period, and then the average of those changes\n",
    "\n",
    "# The greatest increase in profits (date and amount) over the entire period"
   ]
  },
  {
   "cell_type": "code",
   "execution_count": 17,
   "id": "096d0831",
   "metadata": {},
   "outputs": [
    {
     "data": {
      "text/plain": [
       "25"
      ]
     },
     "execution_count": 17,
     "metadata": {},
     "output_type": "execute_result"
    }
   ],
   "source": [
    "loss_count"
   ]
  },
  {
   "cell_type": "code",
   "execution_count": 3,
   "id": "7a88cea2",
   "metadata": {},
   "outputs": [
    {
     "data": {
      "text/plain": [
       "<function _csv.reader>"
      ]
     },
     "execution_count": 3,
     "metadata": {},
     "output_type": "execute_result"
    }
   ],
   "source": [
    "csv.reader"
   ]
  },
  {
   "cell_type": "code",
   "execution_count": null,
   "id": "6a17c109",
   "metadata": {},
   "outputs": [],
   "source": []
  }
 ],
 "metadata": {
  "kernelspec": {
   "display_name": "Python 3 (ipykernel)",
   "language": "python",
   "name": "python3"
  },
  "language_info": {
   "codemirror_mode": {
    "name": "ipython",
    "version": 3
   },
   "file_extension": ".py",
   "mimetype": "text/x-python",
   "name": "python",
   "nbconvert_exporter": "python",
   "pygments_lexer": "ipython3",
   "version": "3.7.7"
  }
 },
 "nbformat": 4,
 "nbformat_minor": 5
}
