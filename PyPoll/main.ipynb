{
 "cells": [
  {
   "cell_type": "code",
   "execution_count": 2,
   "id": "70214d82",
   "metadata": {},
   "outputs": [
    {
     "name": "stdout",
     "output_type": "stream",
     "text": [
      "Election Results\n",
      "-------------------------\n",
      "Total Votes: 369711\n",
      "-------------------------\n",
      "Charles Casper Stockham: 23.049% (85213)\n",
      "Diana DeGette: 73.812% (272892)\n",
      "Raymon Anthony Doane: 3.139% (11606)\n",
      "-------------------------\n",
      "Winner: Diana DeGette\n",
      "-------------------------\n"
     ]
    }
   ],
   "source": [
    "import csv\n",
    "\n",
    "# initialize variables\n",
    "total_votes = 0\n",
    "candidate_votes = {}\n",
    "winner = \"\"\n",
    "winning_votes = 0\n",
    "\n",
    "# open and read csv file\n",
    "with open(\"Resources/election_data.csv\", newline=\"\") as csv_file:\n",
    "    csv_reader = csv.reader(csv_file, delimiter=\",\")\n",
    "\n",
    "    # skip header row\n",
    "    next(csv_reader)\n",
    "\n",
    "    for row in csv_reader:\n",
    "        total_votes += 1\n",
    "        candidate = row[2]\n",
    "        # add candidate to dictionary if not already in there\n",
    "        if candidate not in candidate_votes:\n",
    "            candidate_votes[candidate] = 0\n",
    "        # increment candidate's vote count\n",
    "        candidate_votes[candidate] += 1\n",
    "\n",
    "# print results\n",
    "print(\"Election Results\")\n",
    "print(\"-------------------------\")\n",
    "print(f\"Total Votes: {total_votes}\")\n",
    "print(\"-------------------------\")\n",
    "\n",
    "# iterate through candidates and their votes\n",
    "for candidate, votes in candidate_votes.items():\n",
    "    percentage = (votes / total_votes) * 100\n",
    "    print(f\"{candidate}: {percentage:.3f}% ({votes})\")\n",
    "    if votes > winning_votes:\n",
    "        winner = candidate\n",
    "        winning_votes = votes\n",
    "\n",
    "print(\"-------------------------\")\n",
    "print(f\"Winner: {winner}\")\n",
    "print(\"-------------------------\")\n",
    "\n",
    "# export results to text file\n",
    "with open(\"analysis/output.txt\", \"w\") as text_file:\n",
    "    text_file.write(\"Election Results\\n\")\n",
    "    text_file.write(\"-------------------------\\n\")\n",
    "    text_file.write(f\"Total Votes: {total_votes}\\n\")\n",
    "    text_file.write(\"-------------------------\\n\")\n",
    "    for candidate, votes in candidate_votes.items():\n",
    "        percentage = (votes / total_votes) * 100\n",
    "        text_file.write(f\"{candidate}: {percentage:.3f}% ({votes})\\n\")\n",
    "    text_file.write(\"-------------------------\\n\")\n",
    "    text_file.write(f\"Winner: {winner}\\n\")\n",
    "    text_file.write(\"-------------------------\\n\")"
   ]
  }
 ],
 "metadata": {
  "kernelspec": {
   "display_name": "PythonData",
   "language": "python",
   "name": "pythondata"
  },
  "language_info": {
   "codemirror_mode": {
    "name": "ipython",
    "version": 3
   },
   "file_extension": ".py",
   "mimetype": "text/x-python",
   "name": "python",
   "nbconvert_exporter": "python",
   "pygments_lexer": "ipython3",
   "version": "3.7.7"
  }
 },
 "nbformat": 4,
 "nbformat_minor": 5
}
